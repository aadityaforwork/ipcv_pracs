{
 "cells": [
  {
   "cell_type": "code",
   "execution_count": 4,
   "metadata": {},
   "outputs": [
    {
     "data": {
      "image/png": "[encoded data removed]",
      "text/plain": [
       "<Figure size 640x480 with 1 Axes>"
      ]
     },
     "metadata": {},
     "output_type": "display_data"
    }
   ],
   "source": [
    "import pandas as pd\n",
    "from PIL import Image, ImageOps\n",
    "import numpy as np\n",
    "import os\n",
    "import random\n",
    "import matplotlib.pyplot as plt\n",
    "\n",
    "\n",
    "csv_file = r\"C:\\Users\\Aaditya\\Desktop\\ipcv_pracs\\data\\mnist_test.csv\"  # Replace with the provided file name\n",
    "data = pd.read_csv(csv_file)\n",
    "\n",
    "labels = data.iloc[:, 0]  # First column: Labels\n",
    "pixels = data.iloc[:, 1:]  # Remaining columns: Pixel data\n",
    "\n",
    "# Directory to save images\n",
    "output_dir = r\"C:\\Users\\Aaditya\\Desktop\\ipcv_pracs\\mnist_images\"\n",
    "os.makedirs(output_dir, exist_ok=True)\n",
    "\n",
    "for idx, (label, pixel_values) in enumerate(zip(labels, pixels.values)):\n",
    "    image_array = pixel_values.reshape(28, 28).astype(np.uint8)\n",
    "    img = Image.fromarray(image_array)\n",
    "    img.save(f\"{output_dir}/{label}_{idx}.png\")\n",
    "    if idx >= 10: \n",
    "        break\n",
    "\n",
    "\n",
    "image_files = [f for f in os.listdir(output_dir) if f.endswith(\".png\")]\n",
    "random_image_file = random.choice(image_files)\n",
    "random_image_path = os.path.join(output_dir, random_image_file)\n",
    "random_img = Image.open(random_image_path)\n",
    "\n",
    "\n",
    "plt.imshow(random_img, cmap=\"gray\")\n",
    "plt.axis('off')  \n",
    "plt.show()\n",
    "\n",
    "\n"
   ]
  },
  {
   "cell_type": "code",
   "execution_count": 5,
   "metadata": {},
   "outputs": [
    {
     "data": {
      "image/png": "[encoded data removed]",
      "text/plain": [
       "<Figure size 1500x500 with 3 Axes>"
      ]
     },
     "metadata": {},
     "output_type": "display_data"
    }
   ],
   "source": [
    "# Convert the random image to a numpy array for processing\n",
    "random_image_array = np.array(random_img, dtype=np.float32)\n",
    "\n",
    "# Step 3: Apply Basic High Pass Filter\n",
    "def high_pass_filter(image_array):\n",
    "    kernel = np.array([[-1, -1, -1],\n",
    "                       [-1,  8, -1],\n",
    "                       [-1, -1, -1]])  # High-pass filter kernel\n",
    "    filtered_image = np.zeros_like(image_array)\n",
    "\n",
    "    # Perform convolution without padding\n",
    "    for i in range(1, image_array.shape[0] - 1):\n",
    "        for j in range(1, image_array.shape[1] - 1):\n",
    "            region = image_array[i-1:i+2, j-1:j+2]\n",
    "            filtered_image[i, j] = np.sum(region * kernel)\n",
    "\n",
    "    # Clip values to maintain valid intensity range\n",
    "    filtered_image = np.clip(filtered_image, 0, 255)\n",
    "    return filtered_image\n",
    "\n",
    "# Apply high-pass filter\n",
    "high_pass_result = high_pass_filter(random_image_array)\n",
    "\n",
    "# Step 4: Apply Basic High Boost Filter\n",
    "def high_boost_filter(image_array, boost_factor=1.5):\n",
    "    kernel = np.array([[-1, -1, -1],\n",
    "                       [-1,  8 + boost_factor, -1],\n",
    "                       [-1, -1, -1]])  # High-boost filter kernel\n",
    "    filtered_image = np.zeros_like(image_array)\n",
    "\n",
    "    # Perform convolution without padding\n",
    "    for i in range(1, image_array.shape[0] - 1):\n",
    "        for j in range(1, image_array.shape[1] - 1):\n",
    "            region = image_array[i-1:i+2, j-1:j+2]\n",
    "            filtered_image[i, j] = np.sum(region * kernel)\n",
    "\n",
    "    # Clip values to maintain valid intensity range\n",
    "    filtered_image = np.clip(filtered_image, 0, 255)\n",
    "    return filtered_image\n",
    "\n",
    "# Apply high-boost filter\n",
    "high_boost_result = high_boost_filter(random_image_array)\n",
    "\n",
    "# Display the results\n",
    "fig, axes = plt.subplots(1, 3, figsize=(15, 5))\n",
    "\n",
    "# Original image\n",
    "axes[0].imshow(random_image_array, cmap=\"gray\")\n",
    "axes[0].set_title(\"Original Image\")\n",
    "axes[0].axis(\"off\")\n",
    "\n",
    "# High-pass filtered image\n",
    "axes[1].imshow(high_pass_result, cmap=\"gray\")\n",
    "axes[1].set_title(\"High Pass Filtered Image\")\n",
    "axes[1].axis(\"off\")\n",
    "\n",
    "# High-boost filtered image\n",
    "axes[2].imshow(high_boost_result, cmap=\"gray\")\n",
    "axes[2].set_title(\"High Boost Filtered Image\")\n",
    "axes[2].axis(\"off\")\n",
    "\n",
    "plt.show()\n"
   ]
  }
 ],
 "metadata": {
  "kernelspec": {
   "display_name": "base",
   "language": "python",
   "name": "python3"
  },
  "language_info": {
   "codemirror_mode": {
    "name": "ipython",
    "version": 3
   },
   "file_extension": ".py",
   "mimetype": "text/x-python",
   "name": "python",
   "nbconvert_exporter": "python",
   "pygments_lexer": "ipython3",
   "version": "3.11.7"
  }
 },
 "nbformat": 4,
 "nbformat_minor": 2
}
