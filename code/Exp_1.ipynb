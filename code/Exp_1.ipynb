{
 "cells": [
  {
   "cell_type": "code",
   "execution_count": 3,
   "metadata": {},
   "outputs": [
    {
     "name": "stderr",
     "output_type": "stream",
     "text": [
      "C:\\Users\\Aaditya\\AppData\\Local\\Temp\\ipykernel_23932\\3501060905.py:16: FutureWarning: Series.__getitem__ treating keys as positions is deprecated. In a future version, integer keys will always be treated as labels (consistent with DataFrame behavior). To access a value by position, use `ser.iloc[pos]`\n",
      "  label = row[0]  # First column is the label\n"
     ]
    }
   ],
   "source": [
    "import pandas as pd\n",
    "import numpy as np\n",
    "from PIL import Image\n",
    "import os\n",
    "\n",
    "# Load MNIST dataset from CSV\n",
    "mnist_csv_path = r\"C:\\Users\\Aaditya\\Desktop\\ipcv_pracs\\mnist_test.csv\"  \n",
    "data = pd.read_csv(mnist_csv_path)\n",
    "\n",
    "# Create a directory to save images\n",
    "output_dir = r\"C:\\Users\\Aaditya\\Desktop\\ipcv_pracs\\mnist_images\"\n",
    "os.makedirs(output_dir, exist_ok=True)\n",
    "\n",
    "# Convert rows to images\n",
    "for index, row in data.iterrows():\n",
    "    label = row[0]  # First column is the label\n",
    "    pixels = row[1:].values  # Remaining columns are pixel values\n",
    "    pixels = pixels.reshape(28, 28).astype(np.uint8)  # Reshape to 28x28 and convert to uint8\n",
    "\n",
    "    # Create a PIL image\n",
    "    img = Image.fromarray(pixels)\n",
    "    \n",
    "    # Save the image with label in the filename\n",
    "    img.save(f\"{output_dir}/digit_{label}_{index}.png\")\n",
    "    \n",
    "    if index < 10:  # Show a few images as examples\n",
    "        img.show(title=f\"Digit: {label}\")\n"
   ]
  },
  {
   "cell_type": "code",
   "execution_count": 5,
   "metadata": {},
   "outputs": [],
   "source": [
    "# Define the directory containing the images\n",
    "mnist_images = r\"C:\\Users\\Aaditya\\Desktop\\ipcv_pracs\\mnist_images\"\n",
    "\n",
    "# Load an example image\n",
    "example_image_path = f\"{mnist_images}\\\\digit_9_9992.png\"  # Replace with an actual image path\n",
    "img = Image.open(example_image_path)\n",
    "\n",
    "img.show(title=\"Original Image\")\n",
    "\n",
    "\n",
    "grayscale_img = img.convert(\"L\")\n",
    "grayscale_img.show(title=\"Grayscale Image\")\n"
   ]
  },
  {
   "cell_type": "code",
   "execution_count": 6,
   "metadata": {},
   "outputs": [],
   "source": [
    "# Crop Image (Top-left corner)\n",
    "cropped_img = img.crop((5, 5, 20, 20))  # Define (left, upper, right, lower)\n",
    "\n",
    "# Display Cropped Image\n",
    "cropped_img.show(title=\"Cropped Image\")\n"
   ]
  },
  {
   "cell_type": "code",
   "execution_count": null,
   "metadata": {},
   "outputs": [],
   "source": []
  }
 ],
 "metadata": {
  "kernelspec": {
   "display_name": "base",
   "language": "python",
   "name": "python3"
  },
  "language_info": {
   "codemirror_mode": {
    "name": "ipython",
    "version": 3
   },
   "file_extension": ".py",
   "mimetype": "text/x-python",
   "name": "python",
   "nbconvert_exporter": "python",
   "pygments_lexer": "ipython3",
   "version": "3.11.7"
  }
 },
 "nbformat": 4,
 "nbformat_minor": 2
}
