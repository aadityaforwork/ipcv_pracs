{
 "cells": [
  {
   "cell_type": "code",
   "execution_count": 1,
   "metadata": {},
   "outputs": [
    {
     "data": {
      "image/png": "[encoded data removed]",
      "text/plain": [
       "<Figure size 640x480 with 1 Axes>"
      ]
     },
     "metadata": {},
     "output_type": "display_data"
    }
   ],
   "source": [
    "import pandas as pd\n",
    "from PIL import Image, ImageOps\n",
    "import numpy as np\n",
    "import os\n",
    "import random\n",
    "import matplotlib.pyplot as plt\n",
    "\n",
    "\n",
    "csv_file = r\"C:\\Users\\Aaditya\\Desktop\\ipcv_pracs\\data\\mnist_test.csv\"  # Replace with the provided file name\n",
    "data = pd.read_csv(csv_file)\n",
    "\n",
    "labels = data.iloc[:, 0]  # First column: Labels\n",
    "pixels = data.iloc[:, 1:]  # Remaining columns: Pixel data\n",
    "\n",
    "# Directory to save images\n",
    "output_dir = r\"C:\\Users\\Aaditya\\Desktop\\ipcv_pracs\\mnist_images\"\n",
    "os.makedirs(output_dir, exist_ok=True)\n",
    "\n",
    "for idx, (label, pixel_values) in enumerate(zip(labels, pixels.values)):\n",
    "    image_array = pixel_values.reshape(28, 28).astype(np.uint8)\n",
    "    img = Image.fromarray(image_array)\n",
    "    img.save(f\"{output_dir}/{label}_{idx}.png\")\n",
    "    if idx >= 10: \n",
    "        break\n",
    "\n",
    "\n",
    "image_files = [f for f in os.listdir(output_dir) if f.endswith(\".png\")]\n",
    "random_image_file = random.choice(image_files)\n",
    "random_image_path = os.path.join(output_dir, random_image_file)\n",
    "random_img = Image.open(random_image_path)\n",
    "\n",
    "\n",
    "plt.imshow(random_img, cmap=\"gray\")\n",
    "plt.axis('off')  \n",
    "plt.show()\n",
    "\n",
    "\n"
   ]
  },
  {
   "cell_type": "code",
   "execution_count": 2,
   "metadata": {},
   "outputs": [
    {
     "data": {
      "image/png": "[encoded data removed]",
      "text/plain": [
       "<Figure size 640x480 with 1 Axes>"
      ]
     },
     "metadata": {},
     "output_type": "display_data"
    },
    {
     "name": "stdout",
     "output_type": "stream",
     "text": [
      "Splitting region: (0, 0, 28, 28), Mean Intensity: 23.538265306122447\n"
     ]
    },
    {
     "data": {
      "image/png": "[encoded data removed]",
      "text/plain": [
       "<Figure size 640x480 with 1 Axes>"
      ]
     },
     "metadata": {},
     "output_type": "display_data"
    },
    {
     "data": {
      "image/png": "[encoded data removed]",
      "text/plain": [
       "<Figure size 640x480 with 1 Axes>"
      ]
     },
     "metadata": {},
     "output_type": "display_data"
    }
   ],
   "source": [
    "# Convert the selected random image to a numpy array for processing\n",
    "image_array = np.array(random_img)\n",
    "\n",
    "# Step 3: Implement Region Growing\n",
    "def region_growing(image, seed, threshold):\n",
    "    \"\"\"\n",
    "    Perform region growing from a seed pixel based on intensity threshold.\n",
    "    \"\"\"\n",
    "    # Initialize a binary mask with all zeros\n",
    "    mask = np.zeros_like(image, dtype=np.uint8)\n",
    "\n",
    "    # Get image dimensions\n",
    "    rows, cols = image.shape\n",
    "\n",
    "    # List of pixels to be processed, starting with the seed\n",
    "    pixel_list = [seed]\n",
    "\n",
    "    # Get the intensity of the seed pixel\n",
    "    seed_intensity = image[seed[0], seed[1]]\n",
    "\n",
    "    # Directions for 4-connectivity (up, down, left, right)\n",
    "    directions = [(-1, 0), (1, 0), (0, -1), (0, 1)]\n",
    "\n",
    "    while pixel_list:\n",
    "        x, y = pixel_list.pop()\n",
    "\n",
    "        # Mark the current pixel as part of the region\n",
    "        mask[x, y] = 255\n",
    "\n",
    "        # Explore neighboring pixels\n",
    "        for dx, dy in directions:\n",
    "            nx, ny = x + dx, y + dy\n",
    "\n",
    "            # Check if within bounds and if the pixel has not been visited yet\n",
    "            if 0 <= nx < rows and 0 <= ny < cols and mask[nx, ny] == 0:\n",
    "                # If the intensity difference is less than the threshold, add to the region\n",
    "                if abs(image[nx, ny] - seed_intensity) < threshold:\n",
    "                    pixel_list.append((nx, ny))\n",
    "\n",
    "    return mask\n",
    "\n",
    "# Choose a random seed pixel for region growing\n",
    "seed_pixel = (random.randint(0, image_array.shape[0] - 1), random.randint(0, image_array.shape[1] - 1))\n",
    "threshold = 20  # Define a threshold value for region growing\n",
    "\n",
    "# Perform region growing\n",
    "region_mask = region_growing(image_array, seed_pixel, threshold)\n",
    "\n",
    "# Display the result of region growing\n",
    "plt.imshow(region_mask, cmap=\"gray\")\n",
    "plt.title(\"Region Growing Result\")\n",
    "plt.axis('off')\n",
    "plt.show()\n",
    "\n",
    "# Step 4: Region Splitting with debugging\n",
    "def region_splitting(image, threshold):\n",
    "    \"\"\"\n",
    "    Performs region splitting based on intensity difference.\n",
    "    \"\"\"\n",
    "    rows, cols = image.shape\n",
    "    regions = [(0, 0, rows, cols)]  # Start with the whole image as a region\n",
    "    split_regions = []\n",
    "\n",
    "    while regions:\n",
    "        r1, c1, r2, c2 = regions.pop()\n",
    "        region = image[r1:r2, c1:c2]\n",
    "        region_mean = np.mean(region)\n",
    "\n",
    "        print(f\"Splitting region: ({r1}, {c1}, {r2}, {c2}), Mean Intensity: {region_mean}\")\n",
    "\n",
    "        # If the region's intensity difference is larger than the threshold, split it\n",
    "        if np.all(abs(region - region_mean) > threshold):\n",
    "            # Split the region into 4 quadrants\n",
    "            mid_row = (r1 + r2) // 2\n",
    "            mid_col = (c1 + c2) // 2\n",
    "            regions.append((r1, c1, mid_row, mid_col))\n",
    "            regions.append((r1, mid_col, mid_row, c2))\n",
    "            regions.append((mid_row, c1, r2, mid_col))\n",
    "            regions.append((mid_row, mid_col, r2, c2))\n",
    "        else:\n",
    "            split_regions.append((r1, c1, r2, c2))  # Keep the current region if it's homogeneous\n",
    "\n",
    "    return split_regions\n",
    "\n",
    "# Step 5: Region Merging with debugging\n",
    "def region_merging(image, regions, threshold):\n",
    "    \"\"\"\n",
    "    Merges regions based on similarity of their mean intensities.\n",
    "    \"\"\"\n",
    "    merged_image = np.zeros_like(image)\n",
    "\n",
    "    for r1, c1, r2, c2 in regions:\n",
    "        region = image[r1:r2, c1:c2]\n",
    "        region_mean = np.mean(region)\n",
    "\n",
    "        for other_r1, other_c1, other_r2, other_c2 in regions:\n",
    "            if (r1 != other_r1 or c1 != other_c1 or r2 != other_r2 or c2 != other_c2):\n",
    "                other_region = image[other_r1:other_r2, other_c1:other_c2]\n",
    "                other_mean = np.mean(other_region)\n",
    "\n",
    "                print(f\"Comparing regions: ({r1}, {c1}, {r2}, {c2}) vs ({other_r1}, {other_c1}, {other_r2}, {other_c2}), \"\n",
    "                      f\"Mean Intensities: {region_mean} vs {other_mean}\")\n",
    "\n",
    "                # Merge regions if their intensity difference is below the threshold\n",
    "                if abs(region_mean - other_mean) < threshold:\n",
    "                    merged_image[r1:r2, c1:c2] = 255\n",
    "                    merged_image[other_r1:other_r2, other_c1:other_c2] = 255\n",
    "    return merged_image\n",
    "\n",
    "# Perform region splitting\n",
    "split_regions = region_splitting(image_array, threshold)\n",
    "\n",
    "# Display the split regions\n",
    "split_image = np.zeros_like(image_array)\n",
    "\n",
    "for r1, c1, r2, c2 in split_regions:\n",
    "    split_image[r1:r2, c1:c2] = 255  # Mark regions in white\n",
    "\n",
    "plt.imshow(split_image, cmap=\"gray\")\n",
    "plt.title(\"Region Splitting\")\n",
    "plt.axis('off')\n",
    "plt.show()\n",
    "\n",
    "# Perform region merging\n",
    "merged_image = region_merging(image_array, split_regions, threshold)\n",
    "\n",
    "# Display the merged regions\n",
    "plt.imshow(merged_image, cmap=\"gray\")\n",
    "plt.title(\"Region Merging\")\n",
    "plt.axis('off')\n",
    "plt.show()\n"
   ]
  },
  {
   "cell_type": "code",
   "execution_count": null,
   "metadata": {},
   "outputs": [],
   "source": []
  }
 ],
 "metadata": {
  "kernelspec": {
   "display_name": "base",
   "language": "python",
   "name": "python3"
  },
  "language_info": {
   "codemirror_mode": {
    "name": "ipython",
    "version": 3
   },
   "file_extension": ".py",
   "mimetype": "text/x-python",
   "name": "python",
   "nbconvert_exporter": "python",
   "pygments_lexer": "ipython3",
   "version": "3.11.7"
  }
 },
 "nbformat": 4,
 "nbformat_minor": 2
}
